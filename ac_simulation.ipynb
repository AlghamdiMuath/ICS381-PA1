{
 "cells": [
  {
   "cell_type": "code",
   "execution_count": null,
   "id": "cc8ee917",
   "metadata": {},
   "outputs": [],
   "source": [
    " class SimpleACReflexAgent: \n",
    "        # class for the agent     \n",
    "        def __init__(self, min_threshold, max_threshold):   \n",
    "            # constructor\n",
    "            self.min_threshold = min_threshold  #Add arguments to self. \n",
    "            self.max_threshold = max_threshold     \n",
    "            \n",
    "        def select_action(self, percept : list):         \n",
    "            if not percept[1] and percept[0] >= self.max_threshold: \n",
    "                return 'TurnOn' # turn on the AC         \n",
    "            elif percept[1] and percept[0] <= self.min_threshold:   # if temperature is above maximum threshold             \n",
    "                return 'TurnOff'    # turn off the AC\n",
    "            else:   # otherwise             \n",
    "                return None # do nothing     \n",
    "            \n",
    "class SimpleACEnvironment:  # class for the environment    \n",
    "    def __init__(self, ac_agent, starting_temperature= 28):   # constructor        \n",
    "        self.ac_agent = ac_agent    # agent         \n",
    "        self.temperature= starting_temperature   # temperature         \n",
    "        self.num_agent_actions = 0  # number of actions taken by the agent       \n",
    "        self.is_ac_on = False   # is the AC on?         \n",
    "    def tick(self): # method to simulate one timestep    \n",
    "        returned_action = self.ac_agent.select_action([self.temp, self.is_ac_on])    # get action from agent \n",
    "        if returned_action is not None: # if action is not None             \n",
    "            self.num_agent_actions += 1   # increment number of actions taken by the agent          \n",
    "        if returned_action == 'TurnOn': # if action is to turn on the AC                \n",
    "            self.is_ac_on = True    # turn on the AC             \n",
    "        elif returned_action == 'TurnOff':  # if action is to turn off the AC                 \n",
    "            self.is_ac_on = False   # turn off the AC        \n",
    "        if self.is_ac_on:   # if AC is on             \n",
    "            self.temperature-= 1   # increase temperature         \n",
    "        else:   # otherwise   \n",
    "            self.temperature+= 1   # decrease temperature         \n",
    "    def simulate(self, num_timesteps):  # method to simulate multiple timesteps         \n",
    "        for i in range(num_timesteps):  # for each timestep            \n",
    "            self.tick() # simulate one timestep   \n"
   ]
  },
  {
   "cell_type": "code",
   "execution_count": null,
   "id": "8636f22c",
   "metadata": {},
   "outputs": [],
   "source": []
  }
 ],
 "metadata": {
  "kernelspec": {
   "display_name": "Python 3",
   "language": "python",
   "name": "python3"
  },
  "language_info": {
   "codemirror_mode": {
    "name": "ipython",
    "version": 3
   },
   "file_extension": ".py",
   "mimetype": "text/x-python",
   "name": "python",
   "nbconvert_exporter": "python",
   "pygments_lexer": "ipython3",
   "version": "3.8.8"
  },
  "toc": {
   "base_numbering": 1,
   "nav_menu": {},
   "number_sections": true,
   "sideBar": true,
   "skip_h1_title": false,
   "title_cell": "Table of Contents",
   "title_sidebar": "Contents",
   "toc_cell": false,
   "toc_position": {},
   "toc_section_display": true,
   "toc_window_display": false
  }
 },
 "nbformat": 4,
 "nbformat_minor": 5
}
