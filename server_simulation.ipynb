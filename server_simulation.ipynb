{
 "cells": [
  {
   "cell_type": "code",
   "execution_count": null,
   "id": "af1ee6a8",
   "metadata": {},
   "outputs": [],
   "source": [
    "import random\n",
    "class ServerAgent:\n",
    "    def __init__(self, small_count = 10, medium_count=10, large_count=10):\n",
    "        self.small_count = small_count \n",
    "        self.medium_count = medium_count\n",
    "        self.large_count = large_count\n",
    "        \n",
    "    def select_action (self, percept):\n",
    "        if percept <= 33 :\n",
    "            size = \"large\"\n",
    "            self.large_count -= 1\n",
    "        elif percept <=66 :\n",
    "            size = \"medium\"\n",
    "            self.medium_count -= 1\n",
    "        elif percept <= 99 :\n",
    "            size = \"small\"\n",
    "            self.small_count -= 1\n",
    "        else:\n",
    "            size= None\n",
    "        return size\n",
    "    \n",
    "    def storage_empty(self):\n",
    "        if self.large_count + self.medium_count + self.small_count == 0:\n",
    "            return True\n",
    "        else:\n",
    "            return False\n",
    "\n",
    "class ServerEnvironment:\n",
    "    def __init__(self , server_agent):\n",
    "        self.server_agent = server_agent\n",
    "        self.num_agent_actions= 0\n",
    "    def tick (self):\n",
    "        thirst = random.randint(a=0, b=130)\n",
    "        returned_action = self.server_agent(thirst)\n",
    "        self.num_agent_actions+=1\n",
    "    def simulate(self):\n",
    "        while not storage_empty(self):\n",
    "            tick(self)"
   ]
  }
 ],
 "metadata": {
  "kernelspec": {
   "display_name": "Python 3",
   "language": "python",
   "name": "python3"
  },
  "language_info": {
   "codemirror_mode": {
    "name": "ipython",
    "version": 3
   },
   "file_extension": ".py",
   "mimetype": "text/x-python",
   "name": "python",
   "nbconvert_exporter": "python",
   "pygments_lexer": "ipython3",
   "version": "3.8.8"
  },
  "toc": {
   "base_numbering": 1,
   "nav_menu": {},
   "number_sections": true,
   "sideBar": true,
   "skip_h1_title": false,
   "title_cell": "Table of Contents",
   "title_sidebar": "Contents",
   "toc_cell": false,
   "toc_position": {},
   "toc_section_display": true,
   "toc_window_display": false
  }
 },
 "nbformat": 4,
 "nbformat_minor": 5
}
